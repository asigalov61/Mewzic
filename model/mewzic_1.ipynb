{
 "cells": [
  {
   "cell_type": "code",
   "execution_count": 1,
   "metadata": {
    "ExecuteTime": {
     "end_time": "2020-09-04T15:19:42.197840Z",
     "start_time": "2020-09-04T15:19:38.296822Z"
    }
   },
   "outputs": [],
   "source": [
    "#library for understanding music\n",
    "from music21 import *\n",
    "\n",
    "import os\n",
    "import random\n",
    "import numpy as np\n",
    "import matplotlib.pyplot as plt\n",
    "from collections import Counter\n",
    "\n",
    "from keras.layers import *\n",
    "from keras.models import *\n",
    "from keras.callbacks import *\n",
    "import keras.backend as K\n",
    "from keras.utils import plot_model\n",
    "from keras.metrics import *\n",
    "from keras.regularizers import l2\n",
    "from keras.utils import np_utils\n",
    "\n",
    "from sklearn.model_selection import train_test_split"
   ]
  },
  {
   "cell_type": "code",
   "execution_count": 2,
   "metadata": {
    "ExecuteTime": {
     "end_time": "2020-09-04T15:19:42.211823Z",
     "start_time": "2020-09-04T15:19:42.198851Z"
    }
   },
   "outputs": [],
   "source": [
    "#defining function to read MIDI files\n",
    "def read_midi(file):\n",
    "    \n",
    "    print(\"Parsing: \",file)\n",
    "    \n",
    "    notes=[]\n",
    "    notes_to_parse = None\n",
    "    \n",
    "    #parsing a midi file, getting a midi file in buffer\n",
    "    midi = converter.parse(file)\n",
    "  \n",
    "    #grouping based on different instruments, sort by instrument\n",
    "    try:\n",
    "        instru = instrument.partitionByInstrument(midi)\n",
    "        notes_to_parse = instru.parts[0].recurse()\n",
    "    except:\n",
    "        notes_to_parse = midi.flat.notes\n",
    "\n",
    "    for element in notes_to_parse:\n",
    "        #note\n",
    "        if isinstance(element, note.Note):\n",
    "            notes.append(str(element.pitch))\n",
    "                \n",
    "        #chord\n",
    "        elif isinstance(element, chord.Chord):\n",
    "            notes.append('.'.join(str(n) for n in element.normalOrder))\n",
    "\n",
    "    return notes"
   ]
  },
  {
   "cell_type": "code",
   "execution_count": 3,
   "metadata": {
    "ExecuteTime": {
     "end_time": "2020-09-04T15:19:42.225825Z",
     "start_time": "2020-09-04T15:19:42.216823Z"
    }
   },
   "outputs": [
    {
     "name": "stdout",
     "output_type": "stream",
     "text": [
      "Parsing:  data/Lucifer all along the watchtower MIDI (1) - Copy - Copy.mid\n",
      "Parsing:  data/Lucifer all along the watchtower MIDI (1) - Copy.mid\n",
      "Parsing:  data/Lucifer all along the watchtower MIDI (1).mid\n",
      "Parsing:  data/Lucifer all along the watchtower MIDI (2) - Copy.mid\n",
      "Parsing:  data/Lucifer The unforgiven extended MIDI - Copy (2).mid\n",
      "Parsing:  data/Lucifer The unforgiven extended MIDI - Copy - Copy.mid\n",
      "Parsing:  data/Lucifer The unforgiven extended MIDI - Copy.mid\n",
      "Parsing:  data/Lucifer The unforgiven extended MIDI.mid\n",
      "Parsing:  data/Marshmello - Alone (AdamJLE MIDI) - Copy.mid\n",
      "Parsing:  data/Marshmello - Alone (AdamJLE MIDI).mid\n",
      "Parsing:  data/Marshmello - Keep It Mello ft. Omar LinX (AdamJLE MIDI) - Copy.mid\n",
      "Parsing:  data/Marshmello - Keep It Mello ft. Omar LinX (AdamJLE MIDI).mid\n",
      "Parsing:  data/Martin Garrix - Drown ft. Clinton Kane (AdamJLE MIDI) - Copy.mid\n",
      "Parsing:  data/Martin Garrix - Drown ft. Clinton Kane (AdamJLE MIDI).mid\n",
      "Parsing:  data/Porter Robinson - Get Your Wish (AdamJLE MIDI) - Copy.mid\n",
      "Parsing:  data/Porter Robinson - Get Your Wish (AdamJLE MIDI).mid\n",
      "Parsing:  data/Porter Robinson _ Madeon - Shelter (AdamJLE MIDI) - Copy (2) - Copy.mid\n",
      "Parsing:  data/Porter Robinson _ Madeon - Shelter (AdamJLE MIDI) - Copy (2).mid\n",
      "Parsing:  data/Porter Robinson _ Madeon - Shelter (AdamJLE MIDI) - Copy (3) - Copy.mid\n",
      "Parsing:  data/Porter Robinson _ Madeon - Shelter (AdamJLE MIDI) - Copy (3).mid\n",
      "Parsing:  data/Porter Robinson _ Madeon - Shelter (AdamJLE MIDI) - Copy (4).mid\n",
      "Parsing:  data/Porter Robinson _ Madeon - Shelter (AdamJLE MIDI) - Copy - Copy.mid\n",
      "Parsing:  data/Porter Robinson _ Madeon - Shelter (AdamJLE MIDI) - Copy.mid\n",
      "Parsing:  data/Porter Robinson _ Madeon - Shelter (AdamJLE MIDI).mid\n",
      "Parsing:  data/Porter-Robinson-Fellow-Feeling-Anonymous-20151121171751-nonstop2k.com - Copy.mid\n",
      "Parsing:  data/Porter-Robinson-Fellow-Feeling-Anonymous-20151121171751-nonstop2k.com.mid\n",
      "Parsing:  data/San Holo - Hold Fast ft. Tessa Douwstra (AdamJLE MIDI) - Copy.mid\n",
      "Parsing:  data/San Holo - Hold Fast ft. Tessa Douwstra (AdamJLE MIDI).mid\n",
      "Parsing:  data/See the Fire in Your Eyes (Alca Animusic) - Copy (2) - Copy.mid\n",
      "Parsing:  data/See the Fire in Your Eyes (Alca Animusic) - Copy (2).mid\n",
      "Parsing:  data/See the Fire in Your Eyes (Alca Animusic) - Copy (3).mid\n",
      "Parsing:  data/See the Fire in Your Eyes (Alca Animusic) - Copy - Copy.mid\n",
      "Parsing:  data/See the Fire in Your Eyes (Alca Animusic) - Copy.mid\n",
      "Parsing:  data/See the Fire in Your Eyes (Alca Animusic).mid\n",
      "Parsing:  data/Selena Gomez _ Marshmello - Wolves (AdamJLE MIDI) - Copy.mid\n",
      "Parsing:  data/Selena Gomez _ Marshmello - Wolves (AdamJLE MIDI).mid\n",
      "Parsing:  data/Seven Lions _ Echos - Cold Skin (Stonebank Remix) - Copy.mid\n",
      "Parsing:  data/Seven Lions _ Echos - Cold Skin (Stonebank Remix).mid\n",
      "Parsing:  data/Slander - Superhuman ft. Eric Leva (AdamJLE MIDI) - Copy.mid\n",
      "Parsing:  data/Slander - Superhuman ft. Eric Leva (AdamJLE MIDI).mid\n",
      "Parsing:  data/Slushii - LUV U NEED U (AdamJLE MIDI) - Copy.mid\n",
      "Parsing:  data/Slushii - LUV U NEED U (AdamJLE MIDI).mid\n",
      "Parsing:  data/Slushii ft. Marshmello - There x2 (AdamJLE MIDI) - Copy.mid\n",
      "Parsing:  data/Slushii ft. Marshmello - There x2 (AdamJLE MIDI).mid\n",
      "Parsing:  data/Tobu - Candyland (AdamJLE MIDI) - Copy.mid\n",
      "Parsing:  data/Tobu - Candyland (AdamJLE MIDI).mid\n",
      "Parsing:  data/Trivecta - Break Me ft. Karra (AdamJLE MIDI) - Copy.mid\n",
      "Parsing:  data/Trivecta - Break Me ft. Karra (AdamJLE MIDI).mid\n",
      "Parsing:  data/Unlike Pluto - Everything Black ft. Mike Taylor (AdamJLE MIDI) - Copy.mid\n",
      "Parsing:  data/Unlike Pluto - Everything Black ft. Mike Taylor (AdamJLE MIDI).mid\n",
      "Parsing:  data/Unlike Pluto - Searching For You ft. Karra _ Eric Zayne (AdamJLE MIDI) - Copy.mid\n",
      "Parsing:  data/Unlike Pluto - Searching For You ft. Karra _ Eric Zayne (AdamJLE MIDI).mid\n",
      "Parsing:  data/William Black - Ruins ft. Micah Martin (AdamJLE MIDI) - Copy.mid\n",
      "Parsing:  data/William Black - Ruins ft. Micah Martin (AdamJLE MIDI).mid\n"
     ]
    }
   ],
   "source": [
    "#Array Processing\n",
    "#specify the path\n",
    "path='data/'\n",
    "\n",
    "# while True:\n",
    "#     try:\n",
    "        #read all the filenames\n",
    "files=[i for i in os.listdir(path) if i.endswith(\".mid\")] # make sure we only parse .midi files\n",
    "#reading each midi file\n",
    "notes_array = [read_midi(path+i) for i in files] # tuples to array conversion because list cant be hashed\n",
    "#     except:\n",
    "#         print(\"Passing\")\n",
    "#         break"
   ]
  },
  {
   "cell_type": "markdown",
   "metadata": {},
   "source": [
    "# EDA : "
   ]
  },
  {
   "cell_type": "code",
   "execution_count": 4,
   "metadata": {
    "ExecuteTime": {
     "end_time": "2020-09-04T15:19:42.239823Z",
     "start_time": "2020-09-04T15:19:42.230840Z"
    }
   },
   "outputs": [
    {
     "name": "stdout",
     "output_type": "stream",
     "text": [
      "186\n"
     ]
    }
   ],
   "source": [
    "#converting 2D array into 1D array, also exhaustive listing all the notes in the arr \n",
    "notes_ = [element for note_ in notes_array for element in note_] \n",
    "\n",
    "#No. of unique notes\n",
    "unique_notes = list(set(notes_))\n",
    "# number of notes\n",
    "n_vocab=len(unique_notes)\n",
    "print(n_vocab)"
   ]
  },
  {
   "cell_type": "code",
   "execution_count": 5,
   "metadata": {
    "ExecuteTime": {
     "end_time": "2020-09-04T15:19:42.646835Z",
     "start_time": "2020-09-04T15:19:42.243824Z"
    }
   },
   "outputs": [
    {
     "data": {
      "text/plain": [
       "(array([100.,  32.,  19.,  10.,  12.,   5.,   2.,   3.,   1.,   2.]),\n",
       " array([   2. ,  143.4,  284.8,  426.2,  567.6,  709. ,  850.4,  991.8,\n",
       "        1133.2, 1274.6, 1416. ]),\n",
       " <BarContainer object of 10 artists>)"
      ]
     },
     "execution_count": 5,
     "metadata": {},
     "output_type": "execute_result"
    },
    {
     "data": {
      "image/png": "[encoded data removed]",
      "text/plain": [
       "<Figure size 360x360 with 1 Axes>"
      ]
     },
     "metadata": {
      "image/png": {
       "height": 302,
       "width": 319
      },
      "needs_background": "light"
     },
     "output_type": "display_data"
    }
   ],
   "source": [
    "#computing frequency of each note\n",
    "freq = dict(Counter(notes_)) #using collections here to count, return a dict and we need only the values not the keys\n",
    "\n",
    "#consider only the frequencies\n",
    "#return a dict and we need only the values not the keys\n",
    "no=[count for _,count in freq.items()]\n",
    "\n",
    "#set the figure size\n",
    "plt.figure(figsize=(5,5))\n",
    "\n",
    "# if you have time then label the x and y axis and notes(val) and freq\n",
    "\n",
    "#plot\n",
    "plt.hist(no)"
   ]
  },
  {
   "cell_type": "code",
   "execution_count": 6,
   "metadata": {
    "ExecuteTime": {
     "end_time": "2020-09-04T15:19:42.650846Z",
     "start_time": "2020-09-04T15:19:42.647821Z"
    }
   },
   "outputs": [
    {
     "name": "stdout",
     "output_type": "stream",
     "text": [
      "177\n"
     ]
    }
   ],
   "source": [
    "# tinker with this to get your change 5 to something\n",
    "frequent_notes = [note_ for note_, count in freq.items() if count>=5]\n",
    "print(len(frequent_notes))"
   ]
  },
  {
   "cell_type": "code",
   "execution_count": 7,
   "metadata": {
    "ExecuteTime": {
     "end_time": "2020-09-04T15:19:42.656866Z",
     "start_time": "2020-09-04T15:19:42.652821Z"
    }
   },
   "outputs": [],
   "source": [
    "# prepare new musical files which contain only the top frequent notes\n",
    "\n",
    "new_music=[]\n",
    "\n",
    "# this adds the most freq notes to a new list new_mewzic\n",
    "for notes in notes_array:\n",
    "    temp=[]\n",
    "    for note_ in notes:\n",
    "        if note_ in frequent_notes:\n",
    "            temp.append(note_)            \n",
    "    new_music.append(temp)\n",
    "    \n",
    "new_music = np.array(new_music)\n"
   ]
  },
  {
   "cell_type": "code",
   "execution_count": 8,
   "metadata": {
    "ExecuteTime": {
     "end_time": "2020-09-04T15:19:42.663823Z",
     "start_time": "2020-09-04T15:19:42.658821Z"
    }
   },
   "outputs": [],
   "source": [
    "no_of_timesteps = 128 # aka sequence length\n",
    "x = []\n",
    "y = []\n",
    "\n",
    "for note_ in notes_array:\n",
    "    for i in range(0, len(note_) - no_of_timesteps, 1):\n",
    "        \n",
    "        #preparing input and output sequences\n",
    "        input_ = note_[i:i + no_of_timesteps]\n",
    "        output = note_[i + no_of_timesteps]\n",
    "        \n",
    "        x.append(input_)\n",
    "        y.append(output)\n",
    "        \n",
    "x=np.array(x)\n",
    "y=np.array(y)\n",
    "\n",
    "n_seq=len(x)   "
   ]
  },
  {
   "cell_type": "code",
   "execution_count": 9,
   "metadata": {
    "ExecuteTime": {
     "end_time": "2020-09-04T15:19:42.669823Z",
     "start_time": "2020-09-04T15:19:42.664831Z"
    }
   },
   "outputs": [],
   "source": [
    "# numpy.ravel() == numpy.reshape(-1) aka flatten to a 1d array\n",
    "unique_x = list(set(x.ravel()))\n",
    "#creating a dict with key as note and value as freq count \n",
    "x_note_to_int = dict( (note_, number) for number, note_ in enumerate(unique_x) )"
   ]
  },
  {
   "cell_type": "code",
   "execution_count": 10,
   "metadata": {
    "ExecuteTime": {
     "end_time": "2020-09-04T15:19:42.675822Z",
     "start_time": "2020-09-04T15:19:42.671821Z"
    }
   },
   "outputs": [],
   "source": [
    "#preparing input sequences\n",
    "x_seq=[]\n",
    "for i in x:\n",
    "    temp=[]\n",
    "    for j in i:\n",
    "        #assigning unique integer to every note\n",
    "        temp.append(x_note_to_int[j])\n",
    "    x_seq.append(temp)\n",
    "    \n",
    "x_seq = np.array(x_seq)"
   ]
  },
  {
   "cell_type": "code",
   "execution_count": 11,
   "metadata": {
    "ExecuteTime": {
     "end_time": "2020-09-04T15:19:42.683834Z",
     "start_time": "2020-09-04T15:19:42.676823Z"
    }
   },
   "outputs": [],
   "source": [
    "#preparing input sequences\n",
    "unique_y = list(set(y))\n",
    "y_note_to_int = dict((note_, number) for number, note_ in enumerate(unique_y)) \n",
    "y_seq=np.array([y_note_to_int[i] for i in y])"
   ]
  },
  {
   "cell_type": "code",
   "execution_count": 12,
   "metadata": {
    "ExecuteTime": {
     "end_time": "2020-09-04T15:19:43.517226Z",
     "start_time": "2020-09-04T15:19:42.684849Z"
    }
   },
   "outputs": [],
   "source": [
    "x_seq = np.reshape(x_seq, (len(x_seq), no_of_timesteps, 1))\n",
    "\n",
    "# x_seq=x_seq/len(x_seq)\n",
    "\n",
    "y_seq = np_utils.to_categorical(y_seq,n_vocab)"
   ]
  },
  {
   "cell_type": "code",
   "execution_count": 13,
   "metadata": {
    "ExecuteTime": {
     "end_time": "2020-09-04T15:19:43.525225Z",
     "start_time": "2020-09-04T15:19:38.290Z"
    }
   },
   "outputs": [],
   "source": [
    "x_tr, x_val, y_tr, y_val = train_test_split(x_seq,y_seq,test_size=0.18)"
   ]
  },
  {
   "cell_type": "code",
   "execution_count": 14,
   "metadata": {
    "ExecuteTime": {
     "end_time": "2020-09-04T15:19:43.526225Z",
     "start_time": "2020-09-04T15:19:38.291Z"
    }
   },
   "outputs": [
    {
     "name": "stdout",
     "output_type": "stream",
     "text": [
      "(31965, 128, 1)\n",
      "(31965, 186)\n"
     ]
    }
   ],
   "source": [
    "print(x_tr.shape)\n",
    "print(y_tr.shape)"
   ]
  },
  {
   "cell_type": "code",
   "execution_count": 15,
   "metadata": {
    "ExecuteTime": {
     "end_time": "2020-09-04T15:19:43.527226Z",
     "start_time": "2020-09-04T15:19:38.293Z"
    }
   },
   "outputs": [],
   "source": [
    "#make sure i am using 2080 and not cpu\n",
    "os.environ[\"CUDA_DEVICE_ORDER\"]=\"PCI_BUS_ID\"   \n",
    "os.environ[\"CUDA_VISIBLE_DEVICES\"]=\"0\""
   ]
  },
  {
   "cell_type": "markdown",
   "metadata": {},
   "source": [
    "# B-LSTM"
   ]
  },
  {
   "cell_type": "code",
   "execution_count": 16,
   "metadata": {
    "ExecuteTime": {
     "end_time": "2020-09-04T15:19:43.528227Z",
     "start_time": "2020-09-04T15:19:38.295Z"
    }
   },
   "outputs": [],
   "source": [
    "# K.clear_session()\n",
    "\n",
    "model = Sequential()\n",
    "#input layer\n",
    "# model.add(Embedding(len(unique_x), 128, input_length=no_of_timesteps ,trainable=True))\n",
    "\n",
    "#layer 0\n",
    "model.add(LSTM(128, input_shape=(no_of_timesteps,x_tr.shape[2]), return_sequences=True))\n",
    "\n",
    "#layer 1\n",
    "model.add(Bidirectional(LSTM(128,return_sequences=True)))\n",
    "\n",
    "#layer 2\n",
    "model.add(Bidirectional(LSTM(256,return_sequences=True)))\n",
    "\n",
    "#layer 3\n",
    "model.add(Bidirectional(LSTM(256,return_sequences=True)))\n",
    "\n",
    "#layer 4\n",
    "model.add(Bidirectional(LSTM(256,return_sequences=False)))\n",
    "\n",
    "#layer 5\n",
    "model.add(Dense(512,activation=\"relu\"))\n",
    "model.add(Dropout(0.2))\n",
    "\n",
    "#layer 6\n",
    "model.add(Dense(512,activation=\"relu\"))\n",
    "model.add(Dropout(0.1))\n",
    "\n",
    "#layer 7\n",
    "model.add(Dense(n_vocab,activation=\"softmax\"))\n",
    "\n",
    "\n",
    "model.compile(loss='categorical_crossentropy', optimizer='adam',metrics=['accuracy'])\n",
    "#try to add attention to this model"
   ]
  },
  {
   "cell_type": "markdown",
   "metadata": {},
   "source": [
    "# CNN "
   ]
  },
  {
   "cell_type": "code",
   "execution_count": 17,
   "metadata": {
    "ExecuteTime": {
     "end_time": "2020-09-04T15:19:43.529227Z",
     "start_time": "2020-09-04T15:19:38.297Z"
    }
   },
   "outputs": [],
   "source": [
    "# mc=ModelCheckpoint('best_model.h5', monitor='val_loss', mode='min', save_best_only=True,verbose=1)"
   ]
  },
  {
   "cell_type": "code",
   "execution_count": 18,
   "metadata": {
    "ExecuteTime": {
     "end_time": "2020-09-04T15:19:43.530228Z",
     "start_time": "2020-09-04T15:19:38.299Z"
    }
   },
   "outputs": [],
   "source": [
    "#this is a custom callback lol :"
   ]
  },
  {
   "cell_type": "code",
   "execution_count": 38,
   "metadata": {
    "ExecuteTime": {
     "end_time": "2020-09-04T15:19:43.531227Z",
     "start_time": "2020-09-04T15:19:38.302Z"
    }
   },
   "outputs": [
    {
     "name": "stdout",
     "output_type": "stream",
     "text": [
      "999/999 [==============================] - 104s 104ms/step - loss: 0.2098 - accuracy: 0.9367 - val_loss: 0.3842 - val_accuracy: 0.9199\n"
     ]
    }
   ],
   "source": [
    "history=model.fit(np.array(x_tr),np.array(y_tr),epochs=1,validation_data=(np.array(x_val),np.array(y_val)),verbose=1,shuffle=True)"
   ]
  },
  {
   "cell_type": "code",
   "execution_count": 33,
   "metadata": {
    "ExecuteTime": {
     "end_time": "2020-09-04T15:19:43.531227Z",
     "start_time": "2020-09-04T15:19:38.304Z"
    }
   },
   "outputs": [],
   "source": [
    "# save entire model to HDF5 \n",
    "model.save(\"mewzic_model.h5\")"
   ]
  },
  {
   "cell_type": "code",
   "execution_count": 34,
   "metadata": {
    "ExecuteTime": {
     "end_time": "2020-09-04T15:19:43.532226Z",
     "start_time": "2020-09-04T15:19:38.307Z"
    }
   },
   "outputs": [],
   "source": [
    "# from keras.models import load_model\n",
    "# model = load_model('mewzic_model.h5')"
   ]
  },
  {
   "cell_type": "code",
   "execution_count": 35,
   "metadata": {
    "ExecuteTime": {
     "end_time": "2020-09-04T15:19:43.533226Z",
     "start_time": "2020-09-04T15:19:38.308Z"
    }
   },
   "outputs": [
    {
     "name": "stdout",
     "output_type": "stream",
     "text": [
      "Model: \"sequential\"\n",
      "_________________________________________________________________\n",
      "Layer (type)                 Output Shape              Param #   \n",
      "=================================================================\n",
      "lstm (LSTM)                  (None, 128, 128)          66560     \n",
      "_________________________________________________________________\n",
      "bidirectional (Bidirectional (None, 128, 256)          263168    \n",
      "_________________________________________________________________\n",
      "bidirectional_1 (Bidirection (None, 128, 512)          1050624   \n",
      "_________________________________________________________________\n",
      "bidirectional_2 (Bidirection (None, 128, 512)          1574912   \n",
      "_________________________________________________________________\n",
      "bidirectional_3 (Bidirection (None, 512)               1574912   \n",
      "_________________________________________________________________\n",
      "dense (Dense)                (None, 512)               262656    \n",
      "_________________________________________________________________\n",
      "dropout (Dropout)            (None, 512)               0         \n",
      "_________________________________________________________________\n",
      "dense_1 (Dense)              (None, 512)               262656    \n",
      "_________________________________________________________________\n",
      "dropout_1 (Dropout)          (None, 512)               0         \n",
      "_________________________________________________________________\n",
      "dense_2 (Dense)              (None, 186)               95418     \n",
      "=================================================================\n",
      "Total params: 5,150,906\n",
      "Trainable params: 5,150,906\n",
      "Non-trainable params: 0\n",
      "_________________________________________________________________\n",
      "None\n"
     ]
    }
   ],
   "source": [
    "print(model.summary())"
   ]
  },
  {
   "cell_type": "code",
   "execution_count": 36,
   "metadata": {
    "ExecuteTime": {
     "end_time": "2020-09-04T15:19:43.534227Z",
     "start_time": "2020-09-04T15:19:38.310Z"
    }
   },
   "outputs": [
    {
     "data": {
      "image/png": "[encoded data removed]",
      "text/plain": [
       "<IPython.core.display.Image object>"
      ]
     },
     "execution_count": 36,
     "metadata": {},
     "output_type": "execute_result"
    }
   ],
   "source": [
    "dot_img_file = 'model_summary.png'\n",
    "plot_model(model, to_file=dot_img_file, show_shapes=True)"
   ]
  },
  {
   "cell_type": "code",
   "execution_count": 39,
   "metadata": {},
   "outputs": [
    {
     "name": "stdout",
     "output_type": "stream",
     "text": [
      "dict_keys(['loss', 'accuracy', 'val_loss', 'val_accuracy'])\n"
     ]
    },
    {
     "data": {
      "image/png": "[encoded data removed]",
      "text/plain": [
       "<Figure size 432x288 with 1 Axes>"
      ]
     },
     "metadata": {
      "image/png": {
       "height": 277,
       "width": 404
      },
      "needs_background": "light"
     },
     "output_type": "display_data"
    },
    {
     "data": {
      "image/png": "[encoded data removed]",
      "text/plain": [
       "<Figure size 432x288 with 1 Axes>"
      ]
     },
     "metadata": {
      "image/png": {
       "height": 277,
       "width": 398
      },
      "needs_background": "light"
     },
     "output_type": "display_data"
    }
   ],
   "source": [
    "print(history.history.keys())\n",
    "import matplotlib.pyplot as plt\n",
    "\n",
    "# summarize history for accuracy\n",
    "plt.plot(history.history['accuracy'])\n",
    "plt.plot(history.history['val_accuracy'])\n",
    "plt.title('model accuracy')\n",
    "plt.ylabel('accuracy')\n",
    "plt.xlabel('epoch')\n",
    "plt.legend(['train', 'test'], loc='upper left')\n",
    "plt.show()\n",
    "\n",
    "# summarize history for loss\n",
    "plt.plot(history.history['loss'])\n",
    "plt.plot(history.history['val_loss'])\n",
    "plt.title('model loss')\n",
    "plt.ylabel('loss')\n",
    "plt.xlabel('epoch')\n",
    "plt.legend(['train', 'test'], loc='upper left')\n",
    "plt.show()"
   ]
  },
  {
   "cell_type": "markdown",
   "metadata": {},
   "source": [
    "# method 1"
   ]
  },
  {
   "cell_type": "markdown",
   "metadata": {},
   "source": [
    "# method 2"
   ]
  },
  {
   "cell_type": "code",
   "execution_count": 40,
   "metadata": {
    "ExecuteTime": {
     "end_time": "2020-09-04T15:19:43.534227Z",
     "start_time": "2020-09-04T15:19:38.312Z"
    }
   },
   "outputs": [
    {
     "name": "stdout",
     "output_type": "stream",
     "text": [
      "['2.4.7', 'E1', '2.4.7', 'E1', '2.4.7', 'E1', 'A6', '2.4.7', 'E1', 'G6', '2.4.7', 'E1', '7.11.0.2', 'G1', 'D6', '7.11.0.2', 'G1', '7.11.0.2', 'G1', '7.11.0.2', 'G1', '7.11.0.2', 'G1', '7.11.0.2', 'G1', 'E6', '7.11.0.2', 'G6', 'G6', '4.7.11', 'E1', '4.7.11', 'E1', '4.7.11', 'E1', '4.7.11', 'E1', 'A6', '4.7.11', 'E1', 'G6', '4.7.11', 'E1', '7.9.0', 'A1', 'C6', '7.9.0', 'A1', '7.9.0', 'A1', '7.9.0', 'A1', '7.9.0', 'A1', '7.9.0', 'A1', '7.9.0', 'A1', '7.9.0', 'A1', 'E6', '0.2.4.5', 'D2', 'E6']\n"
     ]
    }
   ],
   "source": [
    "#unique_x is pitch names\n",
    "start=np.random.randint(0, len(x_tr)-1)\n",
    "\n",
    "x_int_to_note = dict((number, note_) for number, note_ in enumerate(unique_x))\n",
    "\n",
    "seq=x_tr[start]\n",
    "predictions=[]\n",
    "\n",
    "for i in range(64):\n",
    "    pred_ip=np.reshape(seq,(1,len(seq),1))\n",
    "    pred_ip=pred_ip/len(pred_ip)\n",
    "    \n",
    "    prediction=model.predict(pred_ip,verbose=0)\n",
    "    \n",
    "    index=np.argmax(prediction)\n",
    "    result=x_int_to_note[index]\n",
    "    predictions.append(result)\n",
    "    \n",
    "#     seq.append(index)\n",
    "    seq = np.append(seq,index)\n",
    "    seq=seq[1:len(seq)]\n",
    "    \n",
    "print(predictions)\n",
    "\n"
   ]
  },
  {
   "cell_type": "code",
   "execution_count": 41,
   "metadata": {
    "ExecuteTime": {
     "end_time": "2020-09-04T15:19:43.535226Z",
     "start_time": "2020-09-04T15:19:38.315Z"
    }
   },
   "outputs": [],
   "source": [
    "offset = 0\n",
    "output_notes = []\n",
    "# create note and chord objects based on the values generated by the model\n",
    "for pattern in predictions:\n",
    "\n",
    "    # pattern is a chord\n",
    "    if ('.' in pattern) or pattern.isdigit():\n",
    "        notes_in_chord = pattern.split('.')\n",
    "        notes = []\n",
    "        for current_note in notes_in_chord:\n",
    "\n",
    "            cn = int(current_note)\n",
    "            new_note = note.Note(cn)\n",
    "            new_note.storedInstrument = instrument.Piano()\n",
    "            notes.append(new_note)\n",
    "\n",
    "        new_chord = chord.Chord(notes)\n",
    "        new_chord.offset = offset\n",
    "        output_notes.append(new_chord)\n",
    "\n",
    "    # pattern is a note\n",
    "    else:\n",
    "\n",
    "        new_note = note.Note(pattern)\n",
    "        new_note.offset = offset\n",
    "        new_note.storedInstrument = instrument.Piano()\n",
    "        output_notes.append(new_note)\n",
    "    # increase offset each iteration so that notes do not stack\n",
    "    offset += 0.54"
   ]
  },
  {
   "cell_type": "code",
   "execution_count": null,
   "metadata": {
    "ExecuteTime": {
     "end_time": "2020-09-04T15:19:43.536226Z",
     "start_time": "2020-09-04T15:19:38.317Z"
    }
   },
   "outputs": [],
   "source": [
    "# convert_to_midi(predicted_notes)"
   ]
  },
  {
   "cell_type": "code",
   "execution_count": 42,
   "metadata": {
    "ExecuteTime": {
     "end_time": "2020-09-04T15:19:43.537225Z",
     "start_time": "2020-09-04T15:19:38.322Z"
    }
   },
   "outputs": [
    {
     "data": {
      "text/plain": [
       "'output/mewzic.mid'"
      ]
     },
     "execution_count": 42,
     "metadata": {},
     "output_type": "execute_result"
    }
   ],
   "source": [
    "midi_stream=stream.Stream(output_notes)\n",
    "midi_stream.write('midi', fp='output/mewzic.mid')"
   ]
  },
  {
   "cell_type": "code",
   "execution_count": null,
   "metadata": {},
   "outputs": [],
   "source": []
  },
  {
   "cell_type": "code",
   "execution_count": null,
   "metadata": {},
   "outputs": [],
   "source": []
  }
 ],
 "metadata": {
  "kernelspec": {
   "display_name": "Python 3",
   "language": "python",
   "name": "python3"
  },
  "language_info": {
   "codemirror_mode": {
    "name": "ipython",
    "version": 3
   },
   "file_extension": ".py",
   "mimetype": "text/x-python",
   "name": "python",
   "nbconvert_exporter": "python",
   "pygments_lexer": "ipython3",
   "version": "3.8.6"
  },
  "notify_time": "5",
  "varInspector": {
   "cols": {
    "lenName": 16,
    "lenType": 16,
    "lenVar": 40
   },
   "kernels_config": {
    "python": {
     "delete_cmd_postfix": "",
     "delete_cmd_prefix": "del ",
     "library": "var_list.py",
     "varRefreshCmd": "print(var_dic_list())"
    },
    "r": {
     "delete_cmd_postfix": ") ",
     "delete_cmd_prefix": "rm(",
     "library": "var_list.r",
     "varRefreshCmd": "cat(var_dic_list()) "
    }
   },
   "types_to_exclude": [
    "module",
    "function",
    "builtin_function_or_method",
    "instance",
    "_Feature"
   ],
   "window_display": false
  }
 },
 "nbformat": 4,
 "nbformat_minor": 4
}
