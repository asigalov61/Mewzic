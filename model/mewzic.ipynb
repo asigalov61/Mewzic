{
 "cells": [
  {
   "cell_type": "code",
   "execution_count": 1,
   "metadata": {
    "ExecuteTime": {
     "end_time": "2020-08-18T14:03:41.292179Z",
     "start_time": "2020-08-18T14:03:34.470446Z"
    }
   },
   "outputs": [],
   "source": [
    "#library for understanding music\n",
    "from music21 import *\n",
    "\n",
    "import os\n",
    "import random\n",
    "import numpy as np\n",
    "import matplotlib.pyplot as plt\n",
    "from collections import Counter\n",
    "import pickle\n",
    "\n",
    "from keras.layers import *\n",
    "from keras.models import *\n",
    "from keras.callbacks import *\n",
    "import keras.backend as K\n",
    "from keras.utils import plot_model\n",
    "from keras.metrics import *\n",
    "from keras.regularizers import l2\n",
    "from keras.utils import np_utils\n",
    "\n",
    "from sklearn.model_selection import train_test_split\n",
    "\n"
   ]
  },
  {
   "cell_type": "code",
   "execution_count": 2,
   "metadata": {
    "ExecuteTime": {
     "end_time": "2020-08-18T14:03:42.646663Z",
     "start_time": "2020-08-18T14:03:42.640803Z"
    }
   },
   "outputs": [],
   "source": [
    "#defining function to read MIDI files\n",
    "def read_midi(file):\n",
    "    \n",
    "    print(\"Parsing: \",file)\n",
    "    \n",
    "    notes=[]\n",
    "    notes_to_parse = None\n",
    "    \n",
    "    #parsing a midi file, getting a midi file in buffer\n",
    "    midi = converter.parse(file)\n",
    "  \n",
    "    #grouping based on different instruments, sort by instrument\n",
    "    try:\n",
    "        instru = instrument.partitionByInstrument(midi)\n",
    "        notes_to_parse = instru.parts[0].recurse()\n",
    "    except:\n",
    "        notes_to_parse = midi.flat.notes\n",
    "\n",
    "    for element in notes_to_parse:\n",
    "        #note\n",
    "        if isinstance(element, note.Note):\n",
    "            notes.append(str(element.pitch))\n",
    "                \n",
    "        #chord\n",
    "        elif isinstance(element, chord.Chord):\n",
    "            notes.append('.'.join(str(n) for n in element.normalOrder))\n",
    "\n",
    "    return notes"
   ]
  },
  {
   "cell_type": "code",
   "execution_count": 3,
   "metadata": {
    "ExecuteTime": {
     "end_time": "2020-08-18T14:05:00.134086Z",
     "start_time": "2020-08-18T14:03:49.318982Z"
    }
   },
   "outputs": [
    {
     "name": "stdout",
     "output_type": "stream",
     "text": [
      "Parsing:  data/01 Divinity - Copy (2).mid\n",
      "Parsing:  data/01 Divinity - Copy (3).mid\n",
      "Parsing:  data/01 Divinity - Copy (4).mid\n",
      "Parsing:  data/01 Divinity - Copy (5).mid\n",
      "Parsing:  data/01 Divinity - Copy (6).mid\n",
      "Parsing:  data/01 Divinity - Copy (7).mid\n",
      "Parsing:  data/01 Divinity - Copy (8).mid\n",
      "Parsing:  data/01 Divinity - Copy.mid\n",
      "Parsing:  data/01 Divinity.mid\n",
      "Parsing:  data/02 Sad Machine - Copy (2).mid\n",
      "Parsing:  data/02 Sad Machine - Copy (3).mid\n",
      "Parsing:  data/02 Sad Machine - Copy (4).mid\n",
      "Parsing:  data/02 Sad Machine - Copy (5).mid\n",
      "Parsing:  data/02 Sad Machine - Copy (6).mid\n",
      "Parsing:  data/02 Sad Machine - Copy (7).mid\n",
      "Parsing:  data/02 Sad Machine - Copy (8).mid\n",
      "Parsing:  data/02 Sad Machine - Copy.mid\n",
      "Parsing:  data/02 Sad Machine.mid\n",
      "Parsing:  data/09 Lionhearted.mid\n",
      "Parsing:  data/11-2 Technicolor x Divinity.mid\n",
      "Parsing:  data/Backstreet Boys - As Long As You Love Me.mid\n",
      "Parsing:  data/Backstreet Boys - I Want It That Way.mid\n",
      "Parsing:  data/beethoven-symphony9-4-ode-to-joy-piano-solo.mid\n",
      "Parsing:  data/Galantis - No Money (AdamJLE MIDI).mid\n",
      "Parsing:  data/Grant - Wake Up ft. Jessi Mason (AdamJLE MIDI).mid\n",
      "Parsing:  data/Laszlo - Airglow (AdamJLE MIDI).mid\n",
      "Parsing:  data/Marshmello - Alone (AdamJLE MIDI).mid\n",
      "Parsing:  data/Marshmello - Keep It Mello ft. Omar LinX (AdamJLE MIDI).mid\n",
      "Parsing:  data/Martin Garrix - Drown ft. Clinton Kane (AdamJLE MIDI).mid\n",
      "Parsing:  data/Porter Robinson - Get Your Wish (AdamJLE MIDI).mid\n",
      "Parsing:  data/Porter Robinson _ Madeon - Shelter (AdamJLE MIDI) - Copy (2).mid\n",
      "Parsing:  data/Porter Robinson _ Madeon - Shelter (AdamJLE MIDI) - Copy (3).mid\n",
      "Parsing:  data/Porter Robinson _ Madeon - Shelter (AdamJLE MIDI) - Copy (4).mid\n",
      "Parsing:  data/Porter Robinson _ Madeon - Shelter (AdamJLE MIDI) - Copy (5).mid\n",
      "Parsing:  data/Porter Robinson _ Madeon - Shelter (AdamJLE MIDI) - Copy (6).mid\n",
      "Parsing:  data/Porter Robinson _ Madeon - Shelter (AdamJLE MIDI) - Copy (7).mid\n",
      "Parsing:  data/Porter Robinson _ Madeon - Shelter (AdamJLE MIDI) - Copy (8).mid\n",
      "Parsing:  data/Porter Robinson _ Madeon - Shelter (AdamJLE MIDI) - Copy.mid\n",
      "Parsing:  data/Porter Robinson _ Madeon - Shelter (AdamJLE MIDI).mid\n",
      "Parsing:  data/Porter-Robinson-Fellow-Feeling-Anonymous-20151121171751-nonstop2k.com.mid\n",
      "Parsing:  data/San Holo - Hold Fast ft. Tessa Douwstra (AdamJLE MIDI).mid\n",
      "Parsing:  data/Selena Gomez _ Marshmello - Wolves (AdamJLE MIDI).mid\n",
      "Parsing:  data/Seven Lions _ Echos - Cold Skin (Stonebank Remix).mid\n",
      "Parsing:  data/Slander - Superhuman ft. Eric Leva (AdamJLE MIDI).mid\n",
      "Parsing:  data/Slushii - LUV U NEED U (AdamJLE MIDI).mid\n",
      "Parsing:  data/Slushii ft. Marshmello - There x2 (AdamJLE MIDI).mid\n",
      "Parsing:  data/Tobu - Candyland (AdamJLE MIDI).mid\n",
      "Parsing:  data/Trivecta - Break Me ft. Karra (AdamJLE MIDI).mid\n",
      "Parsing:  data/Unlike Pluto - Everything Black ft. Mike Taylor (AdamJLE MIDI).mid\n",
      "Parsing:  data/Unlike Pluto - Searching For You ft. Karra _ Eric Zayne (AdamJLE MIDI).mid\n",
      "Parsing:  data/William Black - Ruins ft. Micah Martin (AdamJLE MIDI).mid\n"
     ]
    }
   ],
   "source": [
    "#Array Processing\n",
    "#specify the path\n",
    "path='data/'\n",
    "\n",
    "#read all the filenames\n",
    "files=[i for i in os.listdir(path) if i.endswith(\".mid\")] # make sure we only parse .midi files\n",
    "\n",
    "#reading each midi file\n",
    "notes_array = [read_midi(path+i) for i in files] # tuples to array conversion because list cant be hashed\n",
    "\n"
   ]
  },
  {
   "cell_type": "markdown",
   "metadata": {},
   "source": [
    "# EDA : "
   ]
  },
  {
   "cell_type": "code",
   "execution_count": 4,
   "metadata": {
    "ExecuteTime": {
     "end_time": "2020-08-18T14:05:00.169108Z",
     "start_time": "2020-08-18T14:05:00.154459Z"
    }
   },
   "outputs": [
    {
     "name": "stdout",
     "output_type": "stream",
     "text": [
      "264\n"
     ]
    }
   ],
   "source": [
    "#converting 2D array into 1D array, also exhaustive listing all the notes in the arr \n",
    "notes_ = [element for note_ in notes_array for element in note_] \n",
    "\n",
    "#No. of unique notes\n",
    "unique_notes = list(set(notes_))\n",
    "# number of notes\n",
    "n_vocab=len(unique_notes)\n",
    "print(n_vocab)"
   ]
  },
  {
   "cell_type": "code",
   "execution_count": 5,
   "metadata": {
    "ExecuteTime": {
     "end_time": "2020-08-18T14:05:00.376136Z",
     "start_time": "2020-08-18T14:05:00.197430Z"
    }
   },
   "outputs": [
    {
     "data": {
      "text/plain": [
       "(array([194.,  22.,  15.,   9.,   9.,   6.,   4.,   4.,   0.,   1.]),\n",
       " array([1.000e+00, 3.160e+02, 6.310e+02, 9.460e+02, 1.261e+03, 1.576e+03,\n",
       "        1.891e+03, 2.206e+03, 2.521e+03, 2.836e+03, 3.151e+03]),\n",
       " <a list of 10 Patch objects>)"
      ]
     },
     "execution_count": 5,
     "metadata": {},
     "output_type": "execute_result"
    },
    {
     "data": {
      "image/png": "[encoded data removed]",
      "text/plain": [
       "<Figure size 360x360 with 1 Axes>"
      ]
     },
     "metadata": {
      "image/png": {
       "height": 302,
       "width": 319
      },
      "needs_background": "light"
     },
     "output_type": "display_data"
    }
   ],
   "source": [
    "#computing frequency of each note\n",
    "freq = dict(Counter(notes_)) #using collections here to count, return a dict and we need only the values not the keys\n",
    "\n",
    "#consider only the frequencies\n",
    "#return a dict and we need only the values not the keys\n",
    "no=[count for _,count in freq.items()]\n",
    "\n",
    "#set the figure size\n",
    "plt.figure(figsize=(5,5))\n",
    "\n",
    "# if you have time then label the x and y axis and notes(val) and freq\n",
    "\n",
    "#plot\n",
    "plt.hist(no)"
   ]
  },
  {
   "cell_type": "code",
   "execution_count": 6,
   "metadata": {
    "ExecuteTime": {
     "end_time": "2020-08-18T14:05:00.409340Z",
     "start_time": "2020-08-18T14:05:00.404457Z"
    }
   },
   "outputs": [
    {
     "name": "stdout",
     "output_type": "stream",
     "text": [
      "215\n"
     ]
    }
   ],
   "source": [
    "# tinker with this to get your change 5 to something\n",
    "frequent_notes = [note_ for note_, count in freq.items() if count>=5]\n",
    "print(len(frequent_notes))"
   ]
  },
  {
   "cell_type": "code",
   "execution_count": 7,
   "metadata": {
    "ExecuteTime": {
     "end_time": "2020-08-18T14:05:00.555822Z",
     "start_time": "2020-08-18T14:05:00.435707Z"
    }
   },
   "outputs": [],
   "source": [
    "# prepare new musical files which contain only the top frequent notes\n",
    "\n",
    "new_music=[]\n",
    "\n",
    "# this adds the most freq notes to a new list new_mewzic\n",
    "for notes in notes_array:\n",
    "    temp=[]\n",
    "    for note_ in notes:\n",
    "        if note_ in frequent_notes:\n",
    "            temp.append(note_)            \n",
    "    new_music.append(temp)\n",
    "    \n",
    "new_music = np.array(new_music)\n"
   ]
  },
  {
   "cell_type": "code",
   "execution_count": 8,
   "metadata": {
    "ExecuteTime": {
     "end_time": "2020-08-18T14:05:00.596840Z",
     "start_time": "2020-08-18T14:05:00.593911Z"
    }
   },
   "outputs": [],
   "source": [
    "# feed_notes =[]\n",
    "\n",
    "# for thing in notes_array:\n",
    "#     thing = tuple(thing)\n",
    "#     feed_notes.append(thing)"
   ]
  },
  {
   "cell_type": "code",
   "execution_count": 9,
   "metadata": {
    "ExecuteTime": {
     "end_time": "2020-08-18T14:05:01.727709Z",
     "start_time": "2020-08-18T14:05:00.651528Z"
    }
   },
   "outputs": [],
   "source": [
    "no_of_timesteps = 128 # aka sequence length\n",
    "x = []\n",
    "y = []\n",
    "\n",
    "for note_ in notes_array:\n",
    "    for i in range(0, len(note_) - no_of_timesteps, 1):\n",
    "        \n",
    "        #preparing input and output sequences\n",
    "        input_ = note_[i:i + no_of_timesteps]\n",
    "        output = note_[i + no_of_timesteps]\n",
    "        \n",
    "        x.append(input_)\n",
    "        y.append(output)\n",
    "        \n",
    "x=np.array(x)\n",
    "y=np.array(y)\n",
    "\n",
    "n_seq=len(x)   "
   ]
  },
  {
   "cell_type": "code",
   "execution_count": 10,
   "metadata": {
    "ExecuteTime": {
     "end_time": "2020-08-18T14:05:04.363905Z",
     "start_time": "2020-08-18T14:05:01.763824Z"
    }
   },
   "outputs": [],
   "source": [
    "# numpy.ravel() == numpy.reshape(-1) aka flatten to a 1d array\n",
    "unique_x = list(set(x.ravel()))\n",
    "#creating a dict with key as note and value as freq count \n",
    "x_note_to_int = dict( (note_, number) for number, note_ in enumerate(unique_x) )"
   ]
  },
  {
   "cell_type": "code",
   "execution_count": 11,
   "metadata": {
    "ExecuteTime": {
     "end_time": "2020-08-18T14:05:08.889264Z",
     "start_time": "2020-08-18T14:05:04.400038Z"
    }
   },
   "outputs": [],
   "source": [
    "#preparing input sequences\n",
    "x_seq=[]\n",
    "for i in x:\n",
    "    temp=[]\n",
    "    for j in i:\n",
    "        #assigning unique integer to every note\n",
    "        temp.append(x_note_to_int[j])\n",
    "    x_seq.append(temp)\n",
    "    \n",
    "x_seq = np.array(x_seq)"
   ]
  },
  {
   "cell_type": "code",
   "execution_count": 12,
   "metadata": {
    "ExecuteTime": {
     "end_time": "2020-08-18T14:05:08.981061Z",
     "start_time": "2020-08-18T14:05:08.927352Z"
    }
   },
   "outputs": [],
   "source": [
    "#preparing input sequences\n",
    "unique_y = list(set(y))\n",
    "y_note_to_int = dict((note_, number) for number, note_ in enumerate(unique_y)) \n",
    "y_seq=np.array([y_note_to_int[i] for i in y])"
   ]
  },
  {
   "cell_type": "code",
   "execution_count": 13,
   "metadata": {
    "ExecuteTime": {
     "end_time": "2020-08-18T14:05:09.033796Z",
     "start_time": "2020-08-18T14:05:09.019149Z"
    }
   },
   "outputs": [],
   "source": [
    "x_seq = np.reshape(x_seq, (len(x_seq), no_of_timesteps, 1))\n",
    "\n",
    "# x_seq=x_seq/len(x_seq)\n",
    "\n",
    "y_seq = np_utils.to_categorical(y_seq,n_vocab)"
   ]
  },
  {
   "cell_type": "code",
   "execution_count": 14,
   "metadata": {
    "ExecuteTime": {
     "end_time": "2020-08-18T14:05:09.125610Z",
     "start_time": "2020-08-18T14:05:09.073835Z"
    }
   },
   "outputs": [],
   "source": [
    "x_tr, x_val, y_tr, y_val = train_test_split(x_seq,y_seq,test_size=0.18)"
   ]
  },
  {
   "cell_type": "code",
   "execution_count": 33,
   "metadata": {
    "ExecuteTime": {
     "end_time": "2020-08-18T15:01:10.694278Z",
     "start_time": "2020-08-18T15:01:10.690371Z"
    }
   },
   "outputs": [],
   "source": [
    "# x_tr[0]\n",
    "\n",
    "# import csv\n",
    "\n",
    "# with open(\"val1.csv\", \"w\",newline=\"\") as f:\n",
    "#     writer = csv.writer(f,delimiter=',')\n",
    "#     writer.writerows(x_tr[0])"
   ]
  },
  {
   "cell_type": "code",
   "execution_count": 15,
   "metadata": {
    "ExecuteTime": {
     "end_time": "2020-08-18T14:05:09.168562Z",
     "start_time": "2020-08-18T14:05:09.163677Z"
    }
   },
   "outputs": [
    {
     "name": "stdout",
     "output_type": "stream",
     "text": [
      "(67950, 128, 1)\n",
      "(67950, 264)\n"
     ]
    }
   ],
   "source": [
    "print(x_tr.shape)\n",
    "print(y_tr.shape)"
   ]
  },
  {
   "cell_type": "code",
   "execution_count": 16,
   "metadata": {
    "ExecuteTime": {
     "end_time": "2020-08-18T14:05:09.215434Z",
     "start_time": "2020-08-18T14:05:09.210571Z"
    }
   },
   "outputs": [],
   "source": [
    "#make sure i am using 2080 and not cpu\n",
    "os.environ[\"CUDA_DEVICE_ORDER\"]=\"PCI_BUS_ID\"   \n",
    "os.environ[\"CUDA_VISIBLE_DEVICES\"]=\"0\""
   ]
  },
  {
   "cell_type": "markdown",
   "metadata": {},
   "source": [
    "# B-LSTM"
   ]
  },
  {
   "cell_type": "code",
   "execution_count": 17,
   "metadata": {
    "ExecuteTime": {
     "end_time": "2020-08-18T14:05:15.346742Z",
     "start_time": "2020-08-18T14:05:09.259381Z"
    }
   },
   "outputs": [],
   "source": [
    "# K.clear_session()\n",
    "\n",
    "model = Sequential()\n",
    "#input layer\n",
    "# model.add(Embedding(len(unique_x), 128, input_length=no_of_timesteps ,trainable=True)) \n",
    "model.add(LSTM(128, input_shape=(no_of_timesteps,x_tr.shape[2]), return_sequences=True))\n",
    "\n",
    "#layer 1\n",
    "model.add(Bidirectional(LSTM(128,return_sequences=True)))\n",
    "\n",
    "#layer 2\n",
    "model.add(Bidirectional(LSTM(256,return_sequences=True,kernel_regularizer=l2(0.01))))\n",
    "\n",
    "#layer 3\n",
    "model.add(Bidirectional(LSTM(256)))\n",
    "\n",
    "#layer 4\n",
    "model.add(Dense(512,activation=\"relu\"))\n",
    "model.add(Dropout(0.2))\n",
    "\n",
    "#layer 5\n",
    "model.add(Dense(512,activation=\"relu\"))\n",
    "model.add(Dropout(0.3))\n",
    "\n",
    "#layer 6\n",
    "model.add(Dense(n_vocab,activation=\"softmax\"))\n",
    "\n",
    "model.compile(loss='categorical_crossentropy', optimizer='adam',metrics=['accuracy'])\n",
    "\n",
    "\n",
    "#try to add attention to this model"
   ]
  },
  {
   "cell_type": "markdown",
   "metadata": {},
   "source": [
    "# CNN "
   ]
  },
  {
   "cell_type": "code",
   "execution_count": 18,
   "metadata": {},
   "outputs": [],
   "source": [
    "# model = Sequential()\n",
    "    \n",
    "# #embedding layer\n",
    "# model.add(Embedding(len(unique_x), 100, input_length=no_of_timesteps ,trainable=True)) \n",
    "\n",
    "# model.add(Conv1D(64,3, padding='causal',activation='relu'))\n",
    "# model.add(Dropout(0.2))\n",
    "# model.add(MaxPool1D(2))\n",
    "    \n",
    "# model.add(Conv1D(128,3,activation='relu',dilation_rate=2,padding='causal'))\n",
    "# model.add(Dropout(0.2))\n",
    "# model.add(MaxPool1D(2))\n",
    "\n",
    "# model.add(Conv1D(256,3,activation='relu',dilation_rate=4,padding='causal'))\n",
    "# model.add(Dropout(0.2))\n",
    "# model.add(MaxPool1D(2))\n",
    "          \n",
    "# #model.add(Conv1D(256,5,activation='relu'))    \n",
    "# model.add(GlobalMaxPool1D())\n",
    "    \n",
    "# model.add(Dense(256, activation='relu'))\n",
    "# model.add(Dense(len(unique_y), activation='softmax'))\n",
    "    \n",
    "# model.compile(loss='sparse_categorical_crossentropy', optimizer='adam')"
   ]
  },
  {
   "cell_type": "code",
   "execution_count": 19,
   "metadata": {},
   "outputs": [],
   "source": [
    "# mc=ModelCheckpoint('best_model.h5', monitor='val_loss', mode='min', save_best_only=True,verbose=1)"
   ]
  },
  {
   "cell_type": "code",
   "execution_count": 20,
   "metadata": {},
   "outputs": [],
   "source": [
    "#this is a custom callback lol :"
   ]
  },
  {
   "cell_type": "code",
   "execution_count": 26,
   "metadata": {},
   "outputs": [
    {
     "name": "stdout",
     "output_type": "stream",
     "text": [
      "Epoch 1/5\n",
      "2124/2124 [==============================] - 130s 61ms/step - loss: 0.3775 - accuracy: 0.9076 - val_loss: 0.6746 - val_accuracy: 0.8705\n",
      "Epoch 2/5\n",
      "2124/2124 [==============================] - 129s 61ms/step - loss: 0.3668 - accuracy: 0.9107 - val_loss: 0.7009 - val_accuracy: 0.8649\n",
      "Epoch 3/5\n",
      "2124/2124 [==============================] - 131s 62ms/step - loss: 0.3857 - accuracy: 0.9067 - val_loss: 0.6853 - val_accuracy: 0.8690\n",
      "Epoch 4/5\n",
      "2124/2124 [==============================] - 129s 61ms/step - loss: 0.3587 - accuracy: 0.9130 - val_loss: 0.7176 - val_accuracy: 0.8650\n",
      "Epoch 5/5\n",
      "2124/2124 [==============================] - 130s 61ms/step - loss: 0.3502 - accuracy: 0.9152 - val_loss: 0.7191 - val_accuracy: 0.8673\n"
     ]
    },
    {
     "data": {
      "text/plain": [
       "<tensorflow.python.keras.callbacks.History at 0x190448976d0>"
      ]
     },
     "execution_count": 26,
     "metadata": {},
     "output_type": "execute_result"
    }
   ],
   "source": [
    "model.fit(np.array(x_tr),np.array(y_tr),epochs=5,validation_data=(np.array(x_val),np.array(y_val)),verbose=1)"
   ]
  },
  {
   "cell_type": "code",
   "execution_count": 27,
   "metadata": {},
   "outputs": [],
   "source": [
    "# save entire model to HDF5 \n",
    "model.save(\"mewzic_model.h5\")"
   ]
  },
  {
   "cell_type": "code",
   "execution_count": 18,
   "metadata": {
    "ExecuteTime": {
     "end_time": "2020-08-18T14:07:37.079719Z",
     "start_time": "2020-08-18T14:07:35.070944Z"
    }
   },
   "outputs": [],
   "source": [
    "from keras.models import load_model\n",
    "model = load_model('mewzic_model.h5')"
   ]
  },
  {
   "cell_type": "code",
   "execution_count": 21,
   "metadata": {
    "ExecuteTime": {
     "end_time": "2020-08-18T14:11:23.791653Z",
     "start_time": "2020-08-18T14:11:23.205230Z"
    }
   },
   "outputs": [
    {
     "ename": "TypeError",
     "evalue": "cannot pickle '_thread.RLock' object",
     "output_type": "error",
     "traceback": [
      "\u001b[1;31m---------------------------------------------------------------------------\u001b[0m",
      "\u001b[1;31mTypeError\u001b[0m                                 Traceback (most recent call last)",
      "\u001b[1;32m<ipython-input-21-c7ea6052ff3e>\u001b[0m in \u001b[0;36m<module>\u001b[1;34m\u001b[0m\n\u001b[0;32m      1\u001b[0m \u001b[1;32mimport\u001b[0m \u001b[0mpickle\u001b[0m\u001b[1;33m\u001b[0m\u001b[1;33m\u001b[0m\u001b[0m\n\u001b[1;32m----> 2\u001b[1;33m \u001b[0mpickle\u001b[0m\u001b[1;33m.\u001b[0m\u001b[0mdump\u001b[0m\u001b[1;33m(\u001b[0m\u001b[0mmodel\u001b[0m\u001b[1;33m,\u001b[0m \u001b[0mopen\u001b[0m\u001b[1;33m(\u001b[0m\u001b[1;34m'p_model'\u001b[0m\u001b[1;33m,\u001b[0m\u001b[1;34m'wb'\u001b[0m\u001b[1;33m)\u001b[0m\u001b[1;33m)\u001b[0m\u001b[1;33m\u001b[0m\u001b[1;33m\u001b[0m\u001b[0m\n\u001b[0m",
      "\u001b[1;31mTypeError\u001b[0m: cannot pickle '_thread.RLock' object"
     ]
    }
   ],
   "source": [
    "# import pickle\n",
    "# pickle.dump(model, open('p_model','wb'))"
   ]
  },
  {
   "cell_type": "code",
   "execution_count": 29,
   "metadata": {},
   "outputs": [
    {
     "name": "stdout",
     "output_type": "stream",
     "text": [
      "Model: \"sequential\"\n",
      "_________________________________________________________________\n",
      "Layer (type)                 Output Shape              Param #   \n",
      "=================================================================\n",
      "lstm (LSTM)                  (None, 128, 128)          66560     \n",
      "_________________________________________________________________\n",
      "bidirectional (Bidirectional (None, 128, 256)          263168    \n",
      "_________________________________________________________________\n",
      "bidirectional_1 (Bidirection (None, 128, 512)          1050624   \n",
      "_________________________________________________________________\n",
      "bidirectional_2 (Bidirection (None, 512)               1574912   \n",
      "_________________________________________________________________\n",
      "dense (Dense)                (None, 512)               262656    \n",
      "_________________________________________________________________\n",
      "dropout (Dropout)            (None, 512)               0         \n",
      "_________________________________________________________________\n",
      "dense_1 (Dense)              (None, 512)               262656    \n",
      "_________________________________________________________________\n",
      "dropout_1 (Dropout)          (None, 512)               0         \n",
      "_________________________________________________________________\n",
      "dense_2 (Dense)              (None, 264)               135432    \n",
      "=================================================================\n",
      "Total params: 3,616,008\n",
      "Trainable params: 3,616,008\n",
      "Non-trainable params: 0\n",
      "_________________________________________________________________\n",
      "None\n"
     ]
    }
   ],
   "source": [
    "print(model.summary())"
   ]
  },
  {
   "cell_type": "code",
   "execution_count": 30,
   "metadata": {},
   "outputs": [
    {
     "data": {
      "image/png": "[encoded data removed]",
      "text/plain": [
       "<IPython.core.display.Image object>"
      ]
     },
     "execution_count": 30,
     "metadata": {},
     "output_type": "execute_result"
    }
   ],
   "source": [
    "dot_img_file = 'model_summary.png'\n",
    "plot_model(model, to_file=dot_img_file, show_shapes=True)"
   ]
  },
  {
   "cell_type": "markdown",
   "metadata": {},
   "source": [
    "# method 1"
   ]
  },
  {
   "cell_type": "code",
   "execution_count": 31,
   "metadata": {},
   "outputs": [],
   "source": [
    "# # fix this so that the model is more seq\n",
    "# ind = np.random.randint(0,len(x_val)-1)\n",
    "\n",
    "# #may be use x_tr instead?\n",
    "# random_music = x_tr[ind]\n",
    "\n",
    "# predictions=[]\n",
    "# for i in range(64): # this changes the length of the music output\n",
    "#     random_music = random_music.reshape(1,no_of_timesteps)\n",
    "    \n",
    "#     prob  = model.predict(random_music)[0] #[0] returns the first element of whatever model.predict\n",
    "#     y_pred= np.argmax(prob,axis=0) # getting the index\n",
    "#     predictions.append(y_pred)\n",
    "\n",
    "#     random_music = np.insert(random_music[0],len(random_music[0]),y_pred)\n",
    "#     random_music = random_music[1:]\n",
    "    \n",
    "# print(predictions)"
   ]
  },
  {
   "cell_type": "code",
   "execution_count": 32,
   "metadata": {},
   "outputs": [],
   "source": [
    "# #integers back into the notes\n",
    "# x_int_to_note = dict((number, note_) for number, note_ in enumerate(unique_x)) \n",
    "# predicted_notes = [x_int_to_note[i] for i in predictions] # feed this to conver to midi fx"
   ]
  },
  {
   "cell_type": "code",
   "execution_count": 33,
   "metadata": {},
   "outputs": [],
   "source": [
    "# def convert_to_midi(prediction_output):\n",
    "   \n",
    "#     offset = 0\n",
    "#     output_notes = []\n",
    "\n",
    "#     # create note and chord objects based on the values generated by the model\n",
    "#     for pattern in prediction_output:\n",
    "        \n",
    "#         # pattern is a chord\n",
    "#         if ('.' in pattern) or pattern.isdigit():\n",
    "#             notes_in_chord = pattern.split('.')\n",
    "#             notes = []\n",
    "#             for current_note in notes_in_chord:\n",
    "                \n",
    "#                 cn=int(current_note)\n",
    "#                 new_note = note.Note(cn)\n",
    "#                 new_note.storedInstrument = instrument.Piano()\n",
    "#                 notes.append(new_note)\n",
    "                \n",
    "#             new_chord = chord.Chord(notes)\n",
    "#             new_chord.offset = offset\n",
    "#             output_notes.append(new_chord)\n",
    "            \n",
    "#         # pattern is a note\n",
    "#         else:\n",
    "            \n",
    "#             new_note = note.Note(pattern)\n",
    "#             new_note.offset = offset\n",
    "#             new_note.storedInstrument = instrument.Piano()\n",
    "#             output_notes.append(new_note)\n",
    "\n",
    "#         # increase offset each iteration so that notes do not stack\n",
    "#         offset += 0.5\n",
    "#     midi_stream = stream.Stream(output_notes)\n",
    "#     midi_stream.write('midi', fp='output/mewzic.mid')\n"
   ]
  },
  {
   "cell_type": "markdown",
   "metadata": {},
   "source": [
    "# method 2"
   ]
  },
  {
   "cell_type": "code",
   "execution_count": 34,
   "metadata": {},
   "outputs": [
    {
     "name": "stdout",
     "output_type": "stream",
     "text": [
      "['A7', '0.1', 'A7', '0.1', 'G7', 'A7', '0.1', '8.11.3', 'A7', '0.1', 'G2', '8.10.11', 'C6', 'G2', '8.10.11', 'G2', '8.10.11', 'G2', '8.10.11', 'G2', '8.10.11', 'G2', '8.10.11', 'G2', '8.10.11', 'G2', '8.10.11', '1.2', '0.2.5', '4.8.11', '1.2', 'C6', 'D6', '1.2', 'C6', 'D6', '1.2', 'C6', 'D6', '1.2', '0.4.7', '0.1', 'C6', 'D6', 'C6', 'C#6', 'B6', 'C#6', 'B6', 'C#6', 'B6', 'C#6', 'B6', 'G7', 'C#6', 'B6', '8.11.3', 'C#6', 'B6', 'C#6', 'B6', 'C6', 'C#6', 'B6']\n"
     ]
    }
   ],
   "source": [
    "#unique_x is pitch names\n",
    "start=np.random.randint(0, len(x_tr)-1)\n",
    "\n",
    "x_int_to_note = dict((number, note_) for number, note_ in enumerate(unique_x))\n",
    "\n",
    "seq=x_tr[start]\n",
    "predictions=[]\n",
    "\n",
    "for i in range(64):\n",
    "    pred_ip=np.reshape(seq,(1,len(seq),1))\n",
    "    pred_ip=pred_ip/len(pred_ip)\n",
    "    \n",
    "    prediction=model.predict(pred_ip,verbose=0)\n",
    "    \n",
    "    index=np.argmax(prediction)\n",
    "    result=x_int_to_note[index]\n",
    "    predictions.append(result)\n",
    "    \n",
    "#     seq.append(index)\n",
    "    seq = np.append(seq,index)\n",
    "    seq=seq[1:len(seq)]\n",
    "    \n",
    "print(predictions)\n",
    "\n"
   ]
  },
  {
   "cell_type": "code",
   "execution_count": 35,
   "metadata": {},
   "outputs": [],
   "source": [
    "offset = 0\n",
    "output_notes = []\n",
    "# create note and chord objects based on the values generated by the model\n",
    "for pattern in predictions:\n",
    "\n",
    "    # pattern is a chord\n",
    "    if ('.' in pattern) or pattern.isdigit():\n",
    "        notes_in_chord = pattern.split('.')\n",
    "        notes = []\n",
    "        for current_note in notes_in_chord:\n",
    "\n",
    "            cn = int(current_note)\n",
    "            new_note = note.Note(cn)\n",
    "            new_note.storedInstrument = instrument.Piano()\n",
    "            notes.append(new_note)\n",
    "\n",
    "        new_chord = chord.Chord(notes)\n",
    "        new_chord.offset = offset\n",
    "        output_notes.append(new_chord)\n",
    "\n",
    "    # pattern is a note\n",
    "    else:\n",
    "\n",
    "        new_note = note.Note(pattern)\n",
    "        new_note.offset = offset\n",
    "        new_note.storedInstrument = instrument.Piano()\n",
    "        output_notes.append(new_note)\n",
    "    # increase offset each iteration so that notes do not stack\n",
    "    offset += 0.54"
   ]
  },
  {
   "cell_type": "code",
   "execution_count": 36,
   "metadata": {},
   "outputs": [],
   "source": [
    "# convert_to_midi(predicted_notes)"
   ]
  },
  {
   "cell_type": "code",
   "execution_count": 37,
   "metadata": {},
   "outputs": [
    {
     "data": {
      "text/plain": [
       "'output/mewzic.mid'"
      ]
     },
     "execution_count": 37,
     "metadata": {},
     "output_type": "execute_result"
    }
   ],
   "source": [
    "midi_stream=stream.Stream(output_notes)\n",
    "midi_stream.write('midi', fp='output/mewzic.mid')"
   ]
  },
  {
   "cell_type": "code",
   "execution_count": null,
   "metadata": {},
   "outputs": [],
   "source": []
  },
  {
   "cell_type": "code",
   "execution_count": null,
   "metadata": {},
   "outputs": [],
   "source": []
  }
 ],
 "metadata": {
  "kernelspec": {
   "display_name": "Python 3.8.3 64-bit",
   "language": "python",
   "name": "python38364bit451288bd46ef4a51b70ea48c533b8813"
  },
  "language_info": {
   "codemirror_mode": {
    "name": "ipython",
    "version": 3
   },
   "file_extension": ".py",
   "mimetype": "text/x-python",
   "name": "python",
   "nbconvert_exporter": "python",
   "pygments_lexer": "ipython3",
   "version": "3.8.4"
  },
  "varInspector": {
   "cols": {
    "lenName": 16,
    "lenType": 16,
    "lenVar": 40
   },
   "kernels_config": {
    "python": {
     "delete_cmd_postfix": "",
     "delete_cmd_prefix": "del ",
     "library": "var_list.py",
     "varRefreshCmd": "print(var_dic_list())"
    },
    "r": {
     "delete_cmd_postfix": ") ",
     "delete_cmd_prefix": "rm(",
     "library": "var_list.r",
     "varRefreshCmd": "cat(var_dic_list()) "
    }
   },
   "types_to_exclude": [
    "module",
    "function",
    "builtin_function_or_method",
    "instance",
    "_Feature"
   ],
   "window_display": false
  }
 },
 "nbformat": 4,
 "nbformat_minor": 4
}
